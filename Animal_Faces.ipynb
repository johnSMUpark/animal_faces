{
 "cells": [
  {
   "cell_type": "markdown",
   "metadata": {
    "id": "Lss8GeRlYIg1"
   },
   "source": [
    "# Lab 2: Exploring Image Data #"
   ]
  },
  {
   "cell_type": "markdown",
   "metadata": {
    "id": "yS8-6xQLNsN6"
   },
   "source": [
    "# 1 Business Understanding"
   ]
  },
  {
   "cell_type": "markdown",
   "metadata": {
    "id": "AId27Jdo9G_F"
   },
   "source": [
    "## 1.1 Background\n",
    "\n",
    "Facial recognition is used in a variety of ways within the tech industry. One example is Facebook's automatic tagging. When a user posts a picture of themselves and their friends, Facebook will look at the picture and tag any of the user's friends with their profile. No longer do users have to manually tag their friends on posts. Another use of facial recognition is identifying endangered species in the wild to protect them. With a collection of well-positioned cameras, park rangers and researchers are able to easily monitor wildlife remotely, and the use of facial recognition software allows them to automatically track the locations of endangered species as well as poachers. The popular use of facial modifications through the use of filters such as those found in the popular mobile application *SnapChat* demonstrate that this technology is a useful tool in social media and entertainment industry, as well.\n",
    "\n",
    "Creating classification models for animal breeds provide a variety of uses. According to the American Humane Society, 10 million household pets are lost every year in the United States. Only a fraction of those pets end up in animal shelters, and many of them won't ever be reunited with their owners. Animal facial recognition technology can help pet owners find their lost pets in conjunction with the numerous public-facing cameras in city streets. Self-driving cars also greatly leverage the use of computer vision technology. Although car manufacturers are more concerened about human lives, animal-related car accidents and fatalities are not uncommon. Being able to identify a large moose on snowy Canadian roads could prevent major car accidents, and the ability to recognize a cat or dog on a road can prevent the loss of someone's pet. The usage of image recognition software is wide-ranging, but we know it is incredibly useful in today's world.\n",
    "\n",
    "https://americanhumane.org/blog/every-day-is-tag-day-is-your-pet-protected/#:~:text=Each%20year%2C%20approximately%2010%20million,in%20the%20nation's%20animal%20shelters.\n",
    "\n",
    "https://www.nathab.com/blog/self-driving-vehicles-could-save-animal-lives\n",
    "\n",
    "## 1.2 Value Proposition\n",
    "\n",
    "The cat and dog faces dataset is a subset of Cornell University's STARGan v2 dataset of high quality animal faces. These images are useful for solving image-to-image translation problems, where the goal is to learn the mapping between an input image and an output image. A practical application for this would be the use of computer-generated imagery in films and image-editing. Creating software that provides high qualilty, accurate, and fast image-to-image translation using these images can provide great value to the entertainment and other industries.\n",
    "\n",
    "For our purpose, we are concerned with classifying these images and creating accurate captions. By generating accurate descriptions for these images as either cat or dog, we can help create better tools for animal shelters and wildlife protection organizations for in-depth animal identification tasks.\n",
    "\n",
    "https://github.com/clovaai/stargan-v2\n",
    "\n",
    "## 1.3 Measure of Success\n",
    "\n",
    "Since there exists two different classes in our animal dataset, cat or dog, we expect our predictions to yield a nearly 100% success rate given inputs with the same quality of those within our dataset. The original purpose of the dataset was not image classification so we cannot create a measure of success based on a measure stated within the associated paper. But, as the classification task associated with the dataset will be binary, the classification must, at minimum, be better than coin flips yielding 50% accuracy."
   ]
  },
  {
   "cell_type": "markdown",
   "metadata": {
    "id": "z35bKlg9D85P"
   },
   "source": [
    "## 1. Data Preparation"
   ]
  },
  {
   "cell_type": "markdown",
   "metadata": {
    "id": "ID1x3n-8EB-9"
   },
   "source": [
    "### 1.1 Data loading"
   ]
  },
  {
   "cell_type": "markdown",
   "metadata": {
    "id": "DKApRMIn0yQH"
   },
   "source": [
    "* Each of our `cats` and `dogs` directories contain 2000 images of the said animal respectively (so 4000 images total)\n",
    "* These images are loaded into their respective dataset containers, which for now will be a list of images\n",
    "* To expedite our computatation, we will resize our images from 512 x 512 to 128 x 128 pixels"
   ]
  },
  {
   "cell_type": "code",
   "execution_count": 3,
   "metadata": {
    "colab": {
     "base_uri": "https://localhost:8080/",
     "height": 34
    },
    "id": "5F9Nf6lF5-A4",
    "outputId": "acdd62cc-f4bc-47b9-b8f2-2f2b4e9829fd"
   },
   "outputs": [
    {
     "name": "stdout",
     "output_type": "stream",
     "text": [
      "Loaded 2000 cat images\n",
      "Loaded 2000 dog images\n"
     ]
    }
   ],
   "source": [
    "from typing import *\n",
    "import cv2 # pip install opencv-python\n",
    "import os \n",
    "import glob\n",
    "\n",
    "def get_list_of_imgs(folder_path: str) -> List:\n",
    "    data_path = os.path.join(folder_path,'*g') \n",
    "    files = glob.glob(data_path) \n",
    "    list_of_imgs = [] \n",
    "    for f1 in files: \n",
    "        img = cv2.imread(f1)\n",
    "        img_resized = cv2.resize(img, dsize = (128, 128), interpolation = cv2.INTER_CUBIC)\n",
    "        # img_resized = cv2.resize(img, dsize = (128, 128))\n",
    "        list_of_imgs.append(img_resized)\n",
    "    return list_of_imgs\n",
    "\n",
    "list_of_cat_imgs = get_list_of_imgs('./cats')\n",
    "list_of_dog_imgs = get_list_of_imgs('./dogs')\n",
    "\n",
    "print(f'Loaded {len(list_of_cat_imgs)} cat images')\n",
    "print(f'Loaded {len(list_of_cat_imgs)} dog images')"
   ]
  },
  {
   "cell_type": "code",
   "execution_count": 4,
   "metadata": {
    "colab": {
     "base_uri": "https://localhost:8080/",
     "height": 34
    },
    "id": "JyBfCrcu7OJZ",
    "outputId": "21cf2e37-e29f-4e25-e6b9-e133d63451a4"
   },
   "outputs": [
    {
     "ename": "NameError",
     "evalue": "name 'cat_folder_path' is not defined",
     "output_type": "error",
     "traceback": [
      "\u001b[0;31m---------------------------------------------------------------------------\u001b[0m",
      "\u001b[0;31mNameError\u001b[0m                                 Traceback (most recent call last)",
      "\u001b[0;32m<ipython-input-4-68a1e2a29f45>\u001b[0m in \u001b[0;36m<module>\u001b[0;34m\u001b[0m\n\u001b[0;32m----> 1\u001b[0;31m \u001b[0mlist_of_cat_imgs\u001b[0m \u001b[0;34m=\u001b[0m \u001b[0mget_list_of_imgs\u001b[0m\u001b[0;34m(\u001b[0m\u001b[0mcat_folder_path\u001b[0m\u001b[0;34m)\u001b[0m\u001b[0;34m\u001b[0m\u001b[0;34m\u001b[0m\u001b[0m\n\u001b[0m\u001b[1;32m      2\u001b[0m \u001b[0mprint\u001b[0m\u001b[0;34m(\u001b[0m\u001b[0;34mf'Loaded {len(list_of_cat_imgs)} cat images'\u001b[0m\u001b[0;34m)\u001b[0m\u001b[0;34m\u001b[0m\u001b[0;34m\u001b[0m\u001b[0m\n",
      "\u001b[0;31mNameError\u001b[0m: name 'cat_folder_path' is not defined"
     ]
    }
   ],
   "source": [
    "list_of_cat_imgs = get_list_of_imgs(cat_folder_path)\n",
    "print(f'Loaded {len(list_of_cat_imgs)} cat images')"
   ]
  },
  {
   "cell_type": "code",
   "execution_count": null,
   "metadata": {
    "id": "YiLwe7Cg7YtH"
   },
   "outputs": [],
   "source": [
    "list_of_dog_imgs = get_list_of_imgs(dog_folder_path)\n",
    "print(f'Loaded {len(list_of_dog_imgs)} dog images')"
   ]
  },
  {
   "cell_type": "markdown",
   "metadata": {
    "id": "pPN-b0Zs3bWN"
   },
   "source": [
    "*   All images in our dataset are grayscaled since\n",
    "  * Color is not the most prominent distinguishing attribute between a cat and a dog\n",
    "  * Luminance is more important in distinguisnig visual features of an image\n",
    "  * Doing so further reduces the computational complexity of our analyses by allowing us to interact with a number representing a pixel instead of a 3-length (for RGB values) or 4-length (for BGBA values) array\n",
    "* In addition, we now contain all of our images within Numpy arrays instead of Python lists since Numpy arrays\n",
    "  * Take up less space\n",
    "  * Are faster in terms of performing mathematical operations on a large number of data, which certainly is the case for us since we are working with image data, which contain large number of elements (at least 1 per every pixel)"
   ]
  },
  {
   "cell_type": "code",
   "execution_count": null,
   "metadata": {
    "id": "Bx4Ul0PMAWSc"
   },
   "outputs": [],
   "source": [
    "import numpy as np\n",
    "\n",
    "def list_to_numpy_array(img):\n",
    "    return np.asarray(img, dtype=np.float32)\n",
    "\n",
    "def grayscale(img):\n",
    "    return np.dot(img[...,:3], [0.299, 0.587, 0.144])\n",
    "\n",
    "def grayscale_imgs(list_of_imgs):\n",
    "    return list_to_numpy_array([grayscale(img) for img in list_of_imgs])\n",
    "\n",
    "np_cats = grayscale_imgs(list_of_cat_imgs)\n",
    "np_dogs = grayscale_imgs(list_of_dog_imgs)"
   ]
  },
  {
   "cell_type": "markdown",
   "metadata": {
    "id": "Lv5DT6BeMBoG"
   },
   "source": [
    "Here, we ensure that all of our images are of the same size (i.e. are of the expected 126 x 128 dimensions)"
   ]
  },
  {
   "cell_type": "code",
   "execution_count": null,
   "metadata": {
    "id": "2MJN0Ve0ILp_"
   },
   "outputs": [],
   "source": [
    "def get_height(img):\n",
    "    return len(img)\n",
    "\n",
    "def get_width(img):\n",
    "    return len(img[0])\n",
    "\n",
    "def check_all_imgs_same_dimensions(imgs, animal_type):\n",
    "    h = get_height(imgs[0])\n",
    "    w = get_width(imgs[0])\n",
    "    h_set = set()\n",
    "    w_set = set()\n",
    "    for img in imgs:\n",
    "        h_set.add(get_height(img))\n",
    "        w_set.add(get_width(img))\n",
    "    all_heights_are_equal = len(h_set) == 1\n",
    "    all_widths_are_equal = len(w_set) == 1\n",
    "    all_same_dimensions = all_heights_are_equal and all_widths_are_equal\n",
    "    if all_heights_are_equal and all_widths_are_equal:\n",
    "      print(f'All {animal_type} images have same width and height ({w} x {h})')\n",
    "    else:\n",
    "      print(f'All {animal_type} images DO NOT have same width and height ({w} x {h})')\n",
    "\n",
    "check_all_imgs_same_dimensions(np_cats, 'cat')\n",
    "check_all_imgs_same_dimensions(np_dogs, 'dog')"
   ]
  },
  {
   "cell_type": "markdown",
   "metadata": {
    "id": "3f-uhBChEM6I"
   },
   "source": [
    "### 1.2 Image visualization"
   ]
  },
  {
   "cell_type": "markdown",
   "metadata": {
    "id": "aKUW_wE3Md8w"
   },
   "source": [
    "To ensure that our images have been properly grayscaled, that their resizing have not significantly distorted their image quality, and to provide a visual basis from which we will process our images, we print the first 18 images in each of our dataset."
   ]
  },
  {
   "cell_type": "code",
   "execution_count": null,
   "metadata": {
    "id": "M9UITGEr_9av"
   },
   "outputs": [],
   "source": [
    "import matplotlib.pyplot as plt\n",
    "\n",
    "def plot_gallery(images, titles=None, h=128, w=128, n_row=3, n_col=6):\n",
    "    \"\"\"Helper function to plot a gallery of portraits\"\"\"\n",
    "    plt.figure(figsize=(1.7 * n_col, 2.3 * n_row))\n",
    "    plt.subplots_adjust(bottom=0, left=.01, right=.99, top=.90, hspace=.35)\n",
    "    for i in range(n_row * n_col):\n",
    "        plt.subplot(n_row, n_col, i + 1)\n",
    "        plt.imshow(images[i].reshape((h, w)), cmap=plt.cm.gray)\n",
    "        if titles: plt.title(titles[i], size=12)\n",
    "        plt.xticks(())\n",
    "        plt.yticks(())"
   ]
  },
  {
   "cell_type": "code",
   "execution_count": null,
   "metadata": {
    "id": "VJrcRtwbAnBg"
   },
   "outputs": [],
   "source": [
    "print('Gallery of Cats')\n",
    "plot_gallery(np_cats)"
   ]
  },
  {
   "cell_type": "code",
   "execution_count": null,
   "metadata": {
    "id": "x99Ek_B2ApOd"
   },
   "outputs": [],
   "source": [
    "print('Gallery of Dogs')\n",
    "plot_gallery(np_dogs)"
   ]
  },
  {
   "cell_type": "markdown",
   "metadata": {
    "id": "9I4tkvpiD0KG"
   },
   "source": [
    "### 1.3 Image linearization"
   ]
  },
  {
   "cell_type": "markdown",
   "metadata": {
    "id": "fgfW1xUZM0dp"
   },
   "source": [
    "To perform statistical analyses on our datasets, we flatten each of our images from its "
   ]
  },
  {
   "cell_type": "code",
   "execution_count": null,
   "metadata": {
    "id": "in3WEparEb-k"
   },
   "outputs": [],
   "source": [
    "import pandas as pd\n",
    "import numpy as np\n",
    "\n",
    "def flatten(img):\n",
    "  return img.flatten()\n",
    "\n",
    "def apply_to_all(imgs, func):\n",
    "    return list_to_numpy_array([func(img) for img in imgs])\n",
    "\n",
    "flatten_cats = apply_to_all(np_cats, flatten)\n",
    "flatten_dogs = apply_to_all(np_dogs, flatten)\n",
    "\n",
    "df_cat = pd.DataFrame.from_records(flatten_cats)\n",
    "df_dog = pd.DataFrame.from_records(flatten_dogs)"
   ]
  },
  {
   "cell_type": "code",
   "execution_count": null,
   "metadata": {
    "id": "TWPVC6uPE5Nd"
   },
   "outputs": [],
   "source": [
    "df_cat"
   ]
  },
  {
   "cell_type": "code",
   "execution_count": null,
   "metadata": {
    "id": "a1OrEoxoE6Jj"
   },
   "outputs": [],
   "source": [
    "df_dog"
   ]
  },
  {
   "cell_type": "markdown",
   "metadata": {
    "id": "HOGRj7xcTUG6"
   },
   "source": [
    "# 2 Data Reduction"
   ]
  },
  {
   "cell_type": "markdown",
   "metadata": {
    "id": "dSjlGNMXTc7D"
   },
   "source": [
    "## 2.1 Dimensionality Reduction with Principle Component Analysis Linear"
   ]
  },
  {
   "cell_type": "code",
   "execution_count": null,
   "metadata": {
    "id": "KOIjF8MNTiRI"
   },
   "outputs": [],
   "source": [
    "# Reference: https://github.com/eclarson/MachineLearningNotebooks/blob/master/04.%20Dimension%20Reduction%20and%20Images.ipynb ln 35\n",
    "from sklearn.decomposition import PCA\n",
    "\n",
    "animals = ['cat', 'dog']\n",
    "np_animals = np.concatenate((np_cats, np_dogs), axis=0)\n",
    "animal_data = np.concatenate((flatten_cats, flatten_dogs), axis=0)\n",
    "\n",
    "X = animal_data\n",
    "Y = np.concatenate((np.zeros(500), np.ones(500)), axis=0)\n",
    "\n",
    "n_samples, n_features = X.shape\n",
    "_, h, w = np_animals.shape\n",
    "n_classes = len(animals)\n",
    "\n",
    "print(\"n_samples: {}\".format(n_samples))\n",
    "print(\"n_features: {}\".format(n_features))\n",
    "print(\"n_classes: {}\".format(n_classes))\n",
    "print(\"Original Image Sizes {} by {}\".format(h,w))\n",
    "\n",
    "n_components = 1000\n",
    "print (\"Extracting the top %d eigenfaces from %d faces\" % (\n",
    "    n_components, X.shape[0]))\n",
    "\n",
    "pca = PCA(n_components=n_components)\n",
    "%time pca.fit(X.copy())\n",
    "eigenfaces = pca.components_.reshape((n_components, h, w))"
   ]
  },
  {
   "cell_type": "code",
   "execution_count": null,
   "metadata": {
    "id": "6CUyPIbqVHhb"
   },
   "outputs": [],
   "source": [
    "eigenface_titles = [\"eigenface %d\" % i for i in range(eigenfaces.shape[0])]\n",
    "plot_gallery(eigenfaces, eigenface_titles, h, w)"
   ]
  },
  {
   "cell_type": "code",
   "execution_count": null,
   "metadata": {
    "id": "TXMROmE1VMlM"
   },
   "outputs": [],
   "source": [
    "# Reference: https://github.com/eclarson/MachineLearningNotebooks/blob/master/04.%20Dimension%20Reduction%20and%20Images.ipynb ln 8\n",
    "def plot_explained_variance(pca):\n",
    "    import plotly\n",
    "    from plotly.graph_objs import Bar, Line\n",
    "    from plotly.graph_objs import Scatter, Layout\n",
    "    from plotly.graph_objs.scatter import Marker\n",
    "    from plotly.graph_objs.layout import XAxis, YAxis\n",
    "    plotly.offline.init_notebook_mode() # run at the start of every notebook\n",
    "\n",
    "    explained_var = pca.explained_variance_ratio_\n",
    "    cum_var_exp = np.cumsum(explained_var)\n",
    "\n",
    "    plotly.offline.iplot({\n",
    "        \"data\": [Bar(y=explained_var, name='individual explained variance'),\n",
    "                 Scatter(y=cum_var_exp, name='cumulative explained variance')\n",
    "            ],\n",
    "        \"layout\": Layout(xaxis=XAxis(title='Principal components'), yaxis=YAxis(title='Explained variance ratio'))\n",
    "        })\n",
    "plot_explained_variance(pca)"
   ]
  },
  {
   "cell_type": "markdown",
   "metadata": {
    "id": "SPhijHGFVr8M"
   },
   "source": [
    "## 2.2 Dimensionality Reduction with Randomized Principle Component Analysis Linear"
   ]
  },
  {
   "cell_type": "code",
   "execution_count": null,
   "metadata": {
    "id": "ZhwzmqO8V5L2"
   },
   "outputs": [],
   "source": [
    "n_components = 1000\n",
    "print (\"Extracting the top %d eigenfaces from %d faces\" % (\n",
    "    n_components, X.shape[0]))\n",
    "\n",
    "rpca = PCA(n_components=n_components, svd_solver='randomized')\n",
    "%time rpca.fit(X.copy())\n",
    "eigenfaces = rpca.components_.reshape((n_components, h, w))"
   ]
  },
  {
   "cell_type": "code",
   "execution_count": null,
   "metadata": {
    "id": "Eafb5kmQV7Db"
   },
   "outputs": [],
   "source": [
    "eigenface_titles = [\"eigenface %d\" % i for i in range(eigenfaces.shape[0])]\n",
    "plot_gallery(eigenfaces, eigenface_titles, h, w)"
   ]
  },
  {
   "cell_type": "markdown",
   "metadata": {
    "id": "eJxpmHe9WhCd"
   },
   "source": [
    "## 2.3 PCA vs Random PCA"
   ]
  },
  {
   "cell_type": "code",
   "execution_count": null,
   "metadata": {
    "id": "aKWLAZwlXNJe"
   },
   "outputs": [],
   "source": [
    "\n",
    "from ipywidgets import widgets\n",
    "import warnings\n",
    "\n",
    "def plt_reconstruct(idx_to_reconstruct):\n",
    "    # this code is for reference only, it does not qualify as a neaarest neighbor search\n",
    "    #  for your lab project. \n",
    "    idx_to_reconstruct = np.round(idx_to_reconstruct)\n",
    "    \n",
    "    x_flat = X[idx_to_reconstruct].reshape(1, -1)\n",
    "    reconstructed_image = pca.inverse_transform(pca.transform(x_flat.copy()))    \n",
    "    reconstructed_image_rpca = rpca.inverse_transform(rpca.transform(x_flat.copy()))\n",
    "    \n",
    "    plt.figure(figsize=(15,7))\n",
    "    \n",
    "    plt.subplot(1,3,1) # original\n",
    "    plt.imshow(x_flat.reshape((h, w)), cmap=plt.cm.gray)\n",
    "    plt.title('Original')\n",
    "    plt.grid(False)\n",
    "    \n",
    "    plt.subplot(1,3,2) # pca\n",
    "    plt.imshow(reconstructed_image.reshape((h, w)), cmap=plt.cm.gray)\n",
    "    plt.title('Full PCA')\n",
    "    plt.grid(False)\n",
    "    \n",
    "    plt.subplot(1,3,3) # randomized pca\n",
    "    plt.imshow(reconstructed_image_rpca.reshape((h, w)), cmap=plt.cm.gray)\n",
    "    plt.title('Randomized PCA')\n",
    "    plt.grid(False)\n",
    "    \n",
    "    \n",
    "    \n",
    "widgets.interact(plt_reconstruct,idx_to_reconstruct=(0,n_samples-1,1),__manual=True)"
   ]
  },
  {
   "cell_type": "markdown",
   "metadata": {
    "id": "qrWNd1Z0E-Pv"
   },
   "source": [
    "## 4 Feature Extractions"
   ]
  },
  {
   "cell_type": "markdown",
   "metadata": {
    "id": "M2_hcK_9FQVC"
   },
   "source": [
    "### 4.1 Basic statistics"
   ]
  },
  {
   "cell_type": "code",
   "execution_count": null,
   "metadata": {
    "id": "lVoB8P3HE68j"
   },
   "outputs": [],
   "source": [
    "# statistics of pixel values\n",
    "def generate_df_stat(df):\n",
    "    df_stat = pd.DataFrame()\n",
    "    df_stat['mean'] = [df.iloc[i].mean() for i in range(len(df))]\n",
    "    df_stat['std'] = [df.iloc[i].std() for i in range(len(df))]\n",
    "    df_stat['skew'] = [df.iloc[i].skew() for i in range(len(df))]\n",
    "    df_stat['kurtosis'] = [df.iloc[i].kurtosis() for i in range(len(df))]\n",
    "    return df_stat"
   ]
  },
  {
   "cell_type": "code",
   "execution_count": null,
   "metadata": {
    "id": "BdX9K9bOFEuF"
   },
   "outputs": [],
   "source": [
    "df_stat_cat = generate_df_stat(df_cat)\n",
    "df_stat_dog = generate_df_stat(df_dog)"
   ]
  },
  {
   "cell_type": "code",
   "execution_count": null,
   "metadata": {
    "id": "7ZGwwumCFFWS"
   },
   "outputs": [],
   "source": [
    "df_stat_cat"
   ]
  },
  {
   "cell_type": "code",
   "execution_count": null,
   "metadata": {
    "id": "AejseoHcFG1d"
   },
   "outputs": [],
   "source": [
    "stat_features = ['mean', 'std', 'skew', 'kurtosis']\n",
    "\n",
    "for feature in stat_features:\n",
    "    df_stat_cat[feature].plot(kind='hist', bins=50)\n",
    "    df_stat_dog[feature].plot(kind='hist', bins=50)\n",
    "    plt.legend(['cat', 'dog'])\n",
    "    plt.title(feature + ' distribution')\n",
    "    plt.show()\n",
    "    print(\"Cat\", feature, \"stats:\")\n",
    "    print(df_stat_cat[feature].describe())\n",
    "    print()\n",
    "    print(\"Dog\", feature, \"stats:\")\n",
    "    print(df_stat_dog[feature].describe())\n",
    "    print(\"-----------------------------------------------\")"
   ]
  },
  {
   "cell_type": "markdown",
   "metadata": {
    "id": "8MHSJ52dFMQf"
   },
   "source": [
    "### 4.2 Daisy features"
   ]
  },
  {
   "cell_type": "code",
   "execution_count": null,
   "metadata": {
    "id": "v_BfgD7wFJpq"
   },
   "outputs": [],
   "source": [
    "# Merging dog and cat dataframe\n",
    "df_both = pd.concat([df_cat, df_dog], ignore_index=True)\n",
    "df_both"
   ]
  },
  {
   "cell_type": "code",
   "execution_count": null,
   "metadata": {
    "id": "jWC328N3FUi4"
   },
   "outputs": [],
   "source": [
    "from skimage.feature import daisy\n",
    "h = w = 128\n",
    "features = daisy(img, step=10, radius=10, rings=2, histograms=4, orientations=8, visualize=False)\n",
    "print(features.shape)\n",
    "print(features.shape[0]*features.shape[1]*features.shape[2])"
   ]
  },
  {
   "cell_type": "code",
   "execution_count": null,
   "metadata": {
    "id": "rR_OSvX7FXx3"
   },
   "outputs": [],
   "source": [
    "def apply_daisy(row,shape):\n",
    "    feat = daisy(row.reshape(shape),step=10, radius=10, rings=2, histograms=4, orientations=8, visualize=False)\n",
    "    return feat.reshape((-1))\n"
   ]
  },
  {
   "cell_type": "markdown",
   "metadata": {
    "id": "TJIYuT0bFt2s"
   },
   "source": [
    "Now, we are going to try visulize how DAISY works in the dataset by choosing random image and finding the most similar one to it. "
   ]
  },
  {
   "cell_type": "code",
   "execution_count": null,
   "metadata": {
    "id": "8Jk8f2JiFZkv"
   },
   "outputs": [],
   "source": [
    "from sklearn.metrics.pairwise import pairwise_distances\n",
    "\n",
    "# apply to entire data, row by row,\n",
    "# takes about a minute to run\n",
    "%time daisy_features = np.apply_along_axis(apply_daisy, 1, df_both, (h,w))\n",
    "print(daisy_features.shape)\n",
    "\n",
    "# find the pairwise distance between all the different image features\n",
    "%time dist_matrix = pairwise_distances(daisy_features)\n"
   ]
  },
  {
   "cell_type": "code",
   "execution_count": null,
   "metadata": {
    "id": "IgM9r0ftGA7F"
   },
   "outputs": [],
   "source": [
    "import copy\n",
    "# find closest image to current image, try with 10 images\n",
    "\n",
    "for _ in range(10):\n",
    "    idx1 = int(np.random.rand(1)*len(df_both))\n",
    "    X = df_both.to_numpy()\n",
    "    distances = copy.deepcopy(dist_matrix[idx1,:])\n",
    "    distances[idx1] = np.infty # dont pick the same image!\n",
    "    idx2 = np.argmin(distances)\n",
    "\n",
    "    plt.figure(figsize=(7,10))\n",
    "    plt.subplot(1,2,1)\n",
    "    imshow(X[idx1].reshape((h,w)), cmap='gray')\n",
    "    plt.title(\"Original Image\")\n",
    "    plt.grid()\n",
    "\n",
    "    plt.subplot(1,2,2)\n",
    "    imshow(X[idx2].reshape((h,w)), cmap='gray')\n",
    "    plt.title(\"Closest Image\")\n",
    "    plt.grid()\n",
    "    plt.show()"
   ]
  },
  {
   "cell_type": "markdown",
   "metadata": {
    "id": "28gbRljdGDtM"
   },
   "source": [
    "We can see some dogs are matched with cats. Closest image may not be the best here. Now, let's try to run real prediction with K-th Nearest Neighbor and some different number of neighbors."
   ]
  },
  {
   "cell_type": "code",
   "execution_count": null,
   "metadata": {
    "id": "qhynW4HEGBoW"
   },
   "outputs": [],
   "source": [
    "# Split dataset to training and validating\n",
    "# 0 for cat, 1 for dog\n",
    "from sklearn.model_selection import train_test_split\n",
    "train_cat, test_cat = train_test_split(df_cat.to_numpy(), test_size=0.2)\n",
    "train_dog, test_dog = train_test_split(df_dog.to_numpy(), test_size=0.2)\n",
    "\n",
    "train_X = np.concatenate((train_cat, train_dog))\n",
    "test_X = np.concatenate((test_cat, test_dog))\n",
    "train_y = np.concatenate((np.zeros(len(train_cat)), np.ones(len(train_dog))))\n",
    "test_y = np.concatenate((np.zeros(len(test_cat)), np.ones(len(test_dog))))\n",
    "print(len(train_X), len(test_X), len(train_y))\n",
    "print(len(test_y), test_y)"
   ]
  },
  {
   "cell_type": "code",
   "execution_count": null,
   "metadata": {
    "id": "gFcyPd56GRKc"
   },
   "outputs": [],
   "source": [
    "# Applying DAISY to testing data\n",
    "%time daisy_training = np.apply_along_axis(apply_daisy, 1, train_X, (h,w))\n",
    "print(daisy_training.shape)"
   ]
  },
  {
   "cell_type": "code",
   "execution_count": null,
   "metadata": {
    "id": "6v5pSJOYGSP7"
   },
   "outputs": [],
   "source": [
    "# Training and Testing with multiple number of neighbors\n",
    "# Reference: Nathan's project\n",
    "# https://github.com/n-wes/google_earth_image_classification/blob/master/img_analysis.ipynb\n",
    "from sklearn.neighbors import KNeighborsClassifier\n",
    "from sklearn.metrics import accuracy_score\n",
    "\n",
    "daisy_testing = np.apply_along_axis(apply_daisy, 1, test_X, (h,w))\n",
    "\n",
    "training_accuracy = []\n",
    "test_accuracy = []\n",
    "k_range = range(1,20)\n",
    "neighbors_settings = k_range\n",
    "\n",
    "for n_neighbors in neighbors_settings:\n",
    "    clf = KNeighborsClassifier(n_neighbors=n_neighbors)\n",
    "    clf.fit(daisy_training, train_y)\n",
    "    training_accuracy.append(clf.score(daisy_training, train_y))\n",
    "    test_accuracy.append(clf.score(daisy_testing, test_y))\n",
    "    print(f\"# Neighbors {n_neighbors} - Training score {training_accuracy[-1]} - Testing score {test_accuracy[-1]}\")\n",
    "\n",
    "plt.plot(neighbors_settings, training_accuracy, label=\"Training Accuracy\")\n",
    "plt.plot(neighbors_settings, test_accuracy, label=\"Testing Accuracy\")\n",
    "plt.ylabel(\"Accuracy\")\n",
    "plt.xlabel(\"K Neighbors\")\n",
    "plt.legend()\n",
    "plt.xticks(np.arange(min(k_range), max(k_range)+1, 1.0))\n",
    "plt.show()\n"
   ]
  },
  {
   "cell_type": "markdown",
   "metadata": {
    "id": "0YXqTJKkF89g"
   },
   "source": [
    "### 4.3 Edge detectin"
   ]
  },
  {
   "cell_type": "code",
   "execution_count": null,
   "metadata": {
    "id": "6lMODOFZA3uQ"
   },
   "outputs": [],
   "source": [
    "def sobel(img):\n",
    "    def convolve(conv_filter, img, i, j):\n",
    "        return np.sum(np.multiply(conv_filter, img[i : i + 3, j : j + 3]))\n",
    "    img = img.copy()\n",
    "    filter_x = np.array([[1.0, 0.0, -1.0], [2.0, 0.0, -2.0], [1.0 , 0.0 , -1.0]])\n",
    "    filter_y = np.array([[1.0, 2.0, 1.0 ], [0.0, 0.0, 0.0 ], [-1.0, -2.0, -1.0]])\n",
    "    [rows, columns] = np.shape(img)\n",
    "    filtered_img = np.zeros(shape=(rows, columns))\n",
    "    for i in range(rows - 2):\n",
    "        for j in range(columns - 2):\n",
    "            gradient_x = convolve(filter_x, img, i, j)\n",
    "            gradient_y = convolve(filter_y, img, i, j)\n",
    "            filtered_img[i + 1, j + 1] = np.sqrt(gradient_x ** 2 + gradient_y ** 2)\n",
    "    return filtered_img\n",
    "\n",
    "def show(img, title = ''):\n",
    "    plt.imshow(img, cmap='gray')\n",
    "    if len(title): plt.title(title)\n",
    "    plt.xticks(())\n",
    "    plt.yticks(())\n",
    "    plt.show()"
   ]
  },
  {
   "cell_type": "code",
   "execution_count": null,
   "metadata": {
    "id": "i1gp42RuWp_r"
   },
   "outputs": [],
   "source": [
    "def gaussian_blur(img):\n",
    "    def gaussian_filter(img, r, c):\n",
    "        kernel = 1 / 273 * np.array([[1,  4,  7,  4, 1],\n",
    "                                     [4, 16, 26, 16, 4],\n",
    "                                     [7, 26, 41, 26, 7],\n",
    "                                     [4, 16, 26, 16, 4],\n",
    "                                     [1,  4,  7,  4, 1]])\n",
    "        tot = 0\n",
    "        for i in range(r - 2, r + 3):\n",
    "            for j in range(c - 2, c + 3):\n",
    "                tot += kernel[i - r + 2][j - c + 2] * img[i][j]\n",
    "        return tot\n",
    "    img = img.copy()\n",
    "    blurred = img\n",
    "    tot = 0\n",
    "    for i in range(2, img.shape[0] - 2):\n",
    "        for j in range(2, img.shape[1] - 2):\n",
    "            tot = gaussian_filter(img, i, j)\n",
    "            blurred[i][j] = tot\n",
    "    return blurred"
   ]
  },
  {
   "cell_type": "code",
   "execution_count": null,
   "metadata": {
    "colab": {
     "base_uri": "https://localhost:8080/",
     "height": 307
    },
    "id": "sUi5G4M7qwOJ",
    "outputId": "6b23b838-6e01-4207-9b12-16127d70081c"
   },
   "outputs": [
    {
     "data": {
      "image/png": "[encoded data removed]",
      "text/plain": [
       "<Figure size 576x576 with 2 Axes>"
      ]
     },
     "metadata": {
      "tags": []
     },
     "output_type": "display_data"
    }
   ],
   "source": [
    "img1 = np_cat[0]\n",
    "sobeled_only = sobel(img1)\n",
    "\n",
    "img2 = np_cat[0]\n",
    "blurred = gaussian_blur(img2)\n",
    "burred_then_sobeled = sobel(blurred)\n",
    "\n",
    "def show_side_by_side(img1, img2, title1 = '', title2 = ''):\n",
    "    plt.figure(figsize=(8, 8))\n",
    "    plt.subplots_adjust(bottom=0, left=.01, right=.99, top=.90, hspace=.35)\n",
    "    \n",
    "    plt.subplot(1, 2, 1)\n",
    "    plt.imshow(img1, cmap=plt.cm.gray)\n",
    "    if len(title1): plt.title(title1)\n",
    "    plt.xticks(())\n",
    "    plt.yticks(())\n",
    "    \n",
    "    plt.subplot(1, 2, 2)\n",
    "    plt.imshow(img2, cmap=plt.cm.gray)\n",
    "    if len(title2): plt.title(title2)\n",
    "    plt.xticks(())\n",
    "    plt.yticks(())\n",
    "\n",
    "show_side_by_side(sobeled_only, burred_then_sobeled, 'Sobel Only', 'Gaussian Blur then Sobel')"
   ]
  },
  {
   "cell_type": "code",
   "execution_count": null,
   "metadata": {
    "colab": {
     "base_uri": "https://localhost:8080/",
     "height": 164
    },
    "id": "n6vDyumUHlgc",
    "outputId": "779e5623-9d9f-420c-bf28-cf27e2187018"
   },
   "outputs": [
    {
     "ename": "NameError",
     "evalue": "ignored",
     "output_type": "error",
     "traceback": [
      "\u001b[0;31m---------------------------------------------------------------------------\u001b[0m",
      "\u001b[0;31mNameError\u001b[0m                                 Traceback (most recent call last)",
      "\u001b[0;32m<ipython-input-130-7d236c69e66c>\u001b[0m in \u001b[0;36m<module>\u001b[0;34m()\u001b[0m\n\u001b[0;32m----> 1\u001b[0;31m \u001b[0mnp_sobel_cats\u001b[0m \u001b[0;34m=\u001b[0m \u001b[0mapply_to_all\u001b[0m\u001b[0;34m(\u001b[0m\u001b[0mnp_cats\u001b[0m\u001b[0;34m,\u001b[0m \u001b[0msobel\u001b[0m\u001b[0;34m)\u001b[0m\u001b[0;34m\u001b[0m\u001b[0;34m\u001b[0m\u001b[0m\n\u001b[0m",
      "\u001b[0;31mNameError\u001b[0m: name 'np_cats' is not defined"
     ]
    }
   ],
   "source": [
    "np_sobel_cats = apply_to_all(np_cats, sobel)"
   ]
  },
  {
   "cell_type": "code",
   "execution_count": null,
   "metadata": {
    "id": "ZNQzSnmuIVYa"
   },
   "outputs": [],
   "source": [
    "np_sobel_dogs = apply_to_all(np_dogs, sobel)"
   ]
  },
  {
   "cell_type": "code",
   "execution_count": null,
   "metadata": {
    "colab": {
     "base_uri": "https://localhost:8080/",
     "height": 181
    },
    "id": "dWxaCMgxrlHc",
    "outputId": "dce1f363-8106-444f-8703-6059f9d509f2"
   },
   "outputs": [
    {
     "ename": "NameError",
     "evalue": "ignored",
     "output_type": "error",
     "traceback": [
      "\u001b[0;31m---------------------------------------------------------------------------\u001b[0m",
      "\u001b[0;31mNameError\u001b[0m                                 Traceback (most recent call last)",
      "\u001b[0;32m<ipython-input-132-e422a324788b>\u001b[0m in \u001b[0;36m<module>\u001b[0;34m()\u001b[0m\n\u001b[0;32m----> 1\u001b[0;31m \u001b[0mflatten_sobel_cats\u001b[0m \u001b[0;34m=\u001b[0m \u001b[0mapply_to_all\u001b[0m\u001b[0;34m(\u001b[0m\u001b[0mnp_cats\u001b[0m\u001b[0;34m,\u001b[0m \u001b[0mflatten\u001b[0m\u001b[0;34m)\u001b[0m\u001b[0;34m\u001b[0m\u001b[0;34m\u001b[0m\u001b[0m\n\u001b[0m\u001b[1;32m      2\u001b[0m \u001b[0mflatten_sobel_dogs\u001b[0m \u001b[0;34m=\u001b[0m \u001b[0mapply_to_all\u001b[0m\u001b[0;34m(\u001b[0m\u001b[0mnp_dogs\u001b[0m\u001b[0;34m,\u001b[0m \u001b[0mflatten\u001b[0m\u001b[0;34m)\u001b[0m\u001b[0;34m\u001b[0m\u001b[0;34m\u001b[0m\u001b[0m\n",
      "\u001b[0;31mNameError\u001b[0m: name 'np_cats' is not defined"
     ]
    }
   ],
   "source": [
    "flatten_sobel_cats = apply_to_all(np_cats, flatten)\n",
    "flatten_sobel_dogs = apply_to_all(np_dogs, flatten)"
   ]
  },
  {
   "cell_type": "code",
   "execution_count": null,
   "metadata": {
    "id": "-SOQDg2EIowD"
   },
   "outputs": [],
   "source": [
    "df_sobel_cat = pd.DataFrame.from_records(flatten_cats)\n",
    "df_sobel_dog = pd.DataFrame.from_records(flatten_dogs)"
   ]
  },
  {
   "cell_type": "code",
   "execution_count": null,
   "metadata": {
    "id": "QNc_PVVnIvGb"
   },
   "outputs": [],
   "source": [
    "df_stat_sobel_cat = generate_df_stat(df_cat)\n",
    "df_stat_sobel_dog = generate_df_stat(df_dog)"
   ]
  }
 ],
 "metadata": {
  "colab": {
   "collapsed_sections": [],
   "name": "Animal-Faces",
   "provenance": [],
   "toc_visible": true
  },
  "kernelspec": {
   "display_name": "Python 3",
   "language": "python",
   "name": "python3"
  },
  "language_info": {
   "codemirror_mode": {
    "name": "ipython",
    "version": 3
   },
   "file_extension": ".py",
   "mimetype": "text/x-python",
   "name": "python",
   "nbconvert_exporter": "python",
   "pygments_lexer": "ipython3",
   "version": "3.8.3"
  }
 },
 "nbformat": 4,
 "nbformat_minor": 1
}
