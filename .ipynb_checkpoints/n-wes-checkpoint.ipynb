{
 "cells": [
  {
   "cell_type": "markdown",
   "metadata": {},
   "source": [
    "# 1. Business Understanding"
   ]
  },
  {
   "cell_type": "markdown",
   "metadata": {},
   "source": [
    "## 1.1 Background\n",
    "\n",
    "Facial recognition is used in a variety of ways within the software industry. One example is Facebook's automatic tagging. When a user posts a picture of them and their friends, Facebook will look at the picture and tag any of the user's friends with their profile. No longer do users have to manually tag their friends on posts. Another use of facial recognition is identifying endangered species in the wild to protect them. With a collection of well-positioned cameras, park rangers and researchers are able to easily monitor wildlife remotely, and the use of facial recognition software allows them to automatically track the locations of endangered species as well as poachers. The popular use of facial modifications through the use of filters such as those found in the popular mobile application *SnapChat* demonstrate this technology is a useful tool in the social media and entertainment industry, as well.\n",
    "\n",
    "Creating classification models for animal breeds provide a variety of uses. According to the American Humane Society, 10 million household pets are lost every year in the United States. Only a fraction of those pets end up in animal shelters, and many of them won't ever be reunited with their owners. Animal facial recognition technology can help pet owners find their lost pets in conjunction with the numerous public-facing cameras in city streets. Self-driving cars also greatly leverage the use of computer vision technology. Although car manufacturers are more concerened about human lives, animal-related car accidents and fatalities are not uncommon. Being able to identify a large moose on snowy Canadian roads could prevent a major car accident, and the ability to recognize a cat or dog on the road can prevent the loss of someone's pet. The usage of image recognition software is wide-ranging, but we know it is incredibly useful in today's world.\n",
    "\n",
    "https://americanhumane.org/blog/every-day-is-tag-day-is-your-pet-protected/#:~:text=Each%20year%2C%20approximately%2010%20million,in%20the%20nation's%20animal%20shelters.\n",
    "\n",
    "https://www.nathab.com/blog/self-driving-vehicles-could-save-animal-lives\n",
    "\n",
    "## 1.2 Value Proposition\n",
    "\n",
    "The cat and dog faces dataset is a subset of Cornell University's STARGan v2 dataset of high quality animal faces. These images are useful for solving image-to-image translation problems, where the goal is to learn the mapping between an input image and an output image. A practical application for this would be the use of computer-generated imagery in films and image-editing. Creating software that provides high qualilty, accurate, and fast image-to-image translation using these images can provide great value to the entertainment and other industries.\n",
    "\n",
    "For our purposes, we are concerned with classifying these images and creating accurate captions. By generating accurate descriptions for these images, we can help create better tools for animal shelters and wildlife protection organizations for in-depth animal identification tasks.\n",
    "\n",
    "https://github.com/clovaai/stargan-v2\n",
    "\n",
    "## 1.3 Measure of Success\n",
    "\n",
    "Since there exists two different classes in our animal dataset, cat or dog, we expect our predictions to yield a nearly 100% success rate given inputs with the same quality of those within our dataset. The original purpose of the dataset was not image classification so we cannot create a measure of success based on a measure stated within the associated paper. But, as the classification task associated with the dataset will be binary, the classification must, at minimum, be better than coin flips yielding 50% accuracy."
   ]
  }
 ],
 "metadata": {
  "kernelspec": {
   "display_name": "Python 3",
   "language": "python",
   "name": "python3"
  },
  "language_info": {
   "codemirror_mode": {
    "name": "ipython",
    "version": 3
   },
   "file_extension": ".py",
   "mimetype": "text/x-python",
   "name": "python",
   "nbconvert_exporter": "python",
   "pygments_lexer": "ipython3",
   "version": "3.8.2"
  }
 },
 "nbformat": 4,
 "nbformat_minor": 4
}
